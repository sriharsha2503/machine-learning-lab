{
 "cells": [
  {
   "cell_type": "code",
   "execution_count": 1,
   "id": "75b83c88",
   "metadata": {},
   "outputs": [],
   "source": [
    "import numpy as np"
   ]
  },
  {
   "cell_type": "code",
   "execution_count": null,
   "id": "fee8481e",
   "metadata": {},
   "outputs": [],
   "source": [
    "#Q1"
   ]
  },
  {
   "cell_type": "code",
   "execution_count": 21,
   "id": "b0c20a19",
   "metadata": {},
   "outputs": [],
   "source": [
    "a=np.array([0,1,2,3,4,5,6,7,8])"
   ]
  },
  {
   "cell_type": "code",
   "execution_count": 22,
   "id": "08a084b9",
   "metadata": {},
   "outputs": [
    {
     "data": {
      "text/plain": [
       "array([0, 1, 2, 3, 4, 5, 6, 7, 8])"
      ]
     },
     "execution_count": 22,
     "metadata": {},
     "output_type": "execute_result"
    }
   ],
   "source": [
    "a"
   ]
  },
  {
   "cell_type": "code",
   "execution_count": 23,
   "id": "e7457130",
   "metadata": {},
   "outputs": [],
   "source": [
    "b=a.reshape(3,3)"
   ]
  },
  {
   "cell_type": "code",
   "execution_count": 24,
   "id": "a9c15b99",
   "metadata": {},
   "outputs": [
    {
     "data": {
      "text/plain": [
       "array([[0, 1, 2],\n",
       "       [3, 4, 5],\n",
       "       [6, 7, 8]])"
      ]
     },
     "execution_count": 24,
     "metadata": {},
     "output_type": "execute_result"
    }
   ],
   "source": [
    "b"
   ]
  },
  {
   "cell_type": "code",
   "execution_count": 27,
   "id": "e1c6c376",
   "metadata": {},
   "outputs": [
    {
     "name": "stdout",
     "output_type": "stream",
     "text": [
      "[[0 1 2]\n",
      " [3 4 5]\n",
      " [6 7 8]]\n"
     ]
    }
   ],
   "source": [
    "print(b)"
   ]
  },
  {
   "cell_type": "code",
   "execution_count": 25,
   "id": "bff15d0c",
   "metadata": {},
   "outputs": [],
   "source": [
    "#Q2"
   ]
  },
  {
   "cell_type": "code",
   "execution_count": 26,
   "id": "fed824a2",
   "metadata": {},
   "outputs": [],
   "source": [
    "c=np.array([0,1,2,3,4,5,6,7,8,9])"
   ]
  },
  {
   "cell_type": "code",
   "execution_count": 28,
   "id": "657b7cb6",
   "metadata": {},
   "outputs": [
    {
     "name": "stdout",
     "output_type": "stream",
     "text": [
      "[ 0 -1  2 -1  4 -1  6 -1  8 -1]\n"
     ]
    }
   ],
   "source": [
    "for i in range(len(c)):\n",
    "    if(i%2==1):\n",
    "        c[i]=-1\n",
    "print(c)\n"
   ]
  },
  {
   "cell_type": "code",
   "execution_count": 29,
   "id": "65dc331c",
   "metadata": {},
   "outputs": [],
   "source": [
    "#Q3"
   ]
  },
  {
   "cell_type": "code",
   "execution_count": 44,
   "id": "c884838d",
   "metadata": {},
   "outputs": [],
   "source": [
    "x = np.array([21, 64, 86, 22, 74, 55, 81, 79, 90, 89]) \n",
    "y = np.array([21, 7, 3, 45, 10, 29, 55, 4, 37, 18])"
   ]
  },
  {
   "cell_type": "code",
   "execution_count": 47,
   "id": "c787624b",
   "metadata": {},
   "outputs": [],
   "source": [
    "h=np.where(x>y)\n",
    "i=np.where(y==x)"
   ]
  },
  {
   "cell_type": "code",
   "execution_count": 49,
   "id": "de7cd003",
   "metadata": {},
   "outputs": [
    {
     "name": "stdout",
     "output_type": "stream",
     "text": [
      "(array([1, 2, 4, 5, 6, 7, 8, 9]),)\n",
      "and\n",
      "(array([0]),)\n"
     ]
    }
   ],
   "source": [
    "print(h)\n",
    "print(\"and\")\n",
    "print(i)"
   ]
  },
  {
   "cell_type": "code",
   "execution_count": null,
   "id": "97c6970f",
   "metadata": {},
   "outputs": [],
   "source": [
    "#Q4"
   ]
  },
  {
   "cell_type": "code",
   "execution_count": 31,
   "id": "0f6e6106",
   "metadata": {},
   "outputs": [],
   "source": [
    "sri=np.arange(100).reshape(5,-1)"
   ]
  },
  {
   "cell_type": "code",
   "execution_count": 46,
   "id": "d8dda318",
   "metadata": {},
   "outputs": [
    {
     "name": "stdout",
     "output_type": "stream",
     "text": [
      "[[ 0  1  2  3]\n",
      " [20 21 22 23]\n",
      " [40 41 42 43]\n",
      " [60 61 62 63]\n",
      " [80 81 82 83]]\n"
     ]
    }
   ],
   "source": [
    "print(sri[:,:4])"
   ]
  },
  {
   "cell_type": "code",
   "execution_count": 50,
   "id": "09c74991",
   "metadata": {},
   "outputs": [],
   "source": [
    "#additional Q1"
   ]
  },
  {
   "cell_type": "code",
   "execution_count": 58,
   "id": "9d8cc374",
   "metadata": {},
   "outputs": [
    {
     "data": {
      "text/plain": [
       "array([34, 31, 32, 31, 32, 34, 33, 36, 36, 30])"
      ]
     },
     "execution_count": 58,
     "metadata": {},
     "output_type": "execute_result"
    }
   ],
   "source": [
    "k=np.random.randint(30,40,10)\n",
    "k"
   ]
  },
  {
   "cell_type": "code",
   "execution_count": 51,
   "id": "cbde4241",
   "metadata": {},
   "outputs": [],
   "source": [
    "#additional Q2\n"
   ]
  },
  {
   "cell_type": "code",
   "execution_count": 71,
   "id": "a0cecfb6",
   "metadata": {},
   "outputs": [],
   "source": [
    "A=np.array([[1,2,3],[4,5,6],[7,8,10]])\n",
    "B=np.array([[7,8,10],[4,5,6],[1,2,3]])"
   ]
  },
  {
   "cell_type": "code",
   "execution_count": 72,
   "id": "45d2c404",
   "metadata": {},
   "outputs": [
    {
     "name": "stdout",
     "output_type": "stream",
     "text": [
      "[[ 8 10 13]\n",
      " [ 8 10 12]\n",
      " [ 8 10 13]]\n"
     ]
    }
   ],
   "source": [
    "C=A-B\n",
    "print(C)"
   ]
  },
  {
   "cell_type": "code",
   "execution_count": 73,
   "id": "a596dbe9",
   "metadata": {},
   "outputs": [
    {
     "name": "stdout",
     "output_type": "stream",
     "text": [
      "[[-6 -6 -7]\n",
      " [ 0  0  0]\n",
      " [ 6  6  7]]\n"
     ]
    }
   ],
   "source": [
    "E=A-B\n",
    "print(E)"
   ]
  },
  {
   "cell_type": "code",
   "execution_count": 75,
   "id": "52495fc0",
   "metadata": {},
   "outputs": [
    {
     "name": "stdout",
     "output_type": "stream",
     "text": [
      "46\n",
      "[12 15 19]\n",
      "[31 30 31]\n"
     ]
    }
   ],
   "source": [
    "print(A.sum())\n",
    "print(B.sum(axis=0))\n",
    "print(C.sum(axis=1))\n"
   ]
  },
  {
   "cell_type": "code",
   "execution_count": 76,
   "id": "3e0b813a",
   "metadata": {},
   "outputs": [
    {
     "name": "stdout",
     "output_type": "stream",
     "text": [
      "[[ 7 16 30]\n",
      " [16 25 36]\n",
      " [ 7 16 30]]\n"
     ]
    }
   ],
   "source": [
    "D=A*B\n",
    "print(D)"
   ]
  },
  {
   "cell_type": "code",
   "execution_count": 77,
   "id": "6f4a7ecd",
   "metadata": {},
   "outputs": [
    {
     "name": "stdout",
     "output_type": "stream",
     "text": [
      "[[ 8 10 12]\n",
      " [ 8 10 13]\n",
      " [ 8 10 13]]\n",
      "[[-6 -6 -7]\n",
      " [ 0  0  0]\n",
      " [ 6  6  7]]\n"
     ]
    }
   ],
   "source": [
    "C.sort(axis=0)\n",
    "print(C)\n",
    "print(E)"
   ]
  },
  {
   "cell_type": "code",
   "execution_count": 79,
   "id": "34487440",
   "metadata": {},
   "outputs": [
    {
     "name": "stdout",
     "output_type": "stream",
     "text": [
      "[[-6  0  6]\n",
      " [-6  0  6]\n",
      " [-7  0  7]]\n"
     ]
    }
   ],
   "source": [
    "transposeE=E.transpose()\n",
    "print(transposeE)"
   ]
  },
  {
   "cell_type": "code",
   "execution_count": null,
   "id": "b6a0602e",
   "metadata": {},
   "outputs": [],
   "source": []
  }
 ],
 "metadata": {
  "kernelspec": {
   "display_name": "Python 3 (ipykernel)",
   "language": "python",
   "name": "python3"
  },
  "language_info": {
   "codemirror_mode": {
    "name": "ipython",
    "version": 3
   },
   "file_extension": ".py",
   "mimetype": "text/x-python",
   "name": "python",
   "nbconvert_exporter": "python",
   "pygments_lexer": "ipython3",
   "version": "3.12.3"
  }
 },
 "nbformat": 4,
 "nbformat_minor": 5
}
