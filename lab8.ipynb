{
 "cells": [
  {
   "cell_type": "markdown",
   "id": "8632d21f",
   "metadata": {},
   "source": [
    "QUESTION 1"
   ]
  },
  {
   "cell_type": "code",
   "execution_count": 43,
   "id": "2ed8962b",
   "metadata": {},
   "outputs": [],
   "source": [
    "import numpy as np\n",
    "import pandas as pd\n",
    "import matplotlib.pyplot as plt\n",
    "from collections import Counter"
   ]
  },
  {
   "cell_type": "code",
   "execution_count": 18,
   "id": "38b877ec",
   "metadata": {},
   "outputs": [],
   "source": [
    "\n",
    "new_fruit = np.array([165, 5.5])\n"
   ]
  },
  {
   "cell_type": "code",
   "execution_count": 20,
   "id": "3f31e3b1",
   "metadata": {},
   "outputs": [],
   "source": [
    "\n",
    "data = {\n",
    "    'fruitId': [1, 2, 3, 4, 5, 6],\n",
    "    'weights': [180, 200, 150, 170, 160, 140],\n",
    "    'sweetness_level': [7, 6, 4, 5, 6, 3],\n",
    "    'label': ['Apple', 'Apple', 'Orange', 'Orange', 'Apple', 'Orange']\n",
    "}\n",
    "\n",
    "df = pd.DataFrame(data)\n",
    "df.to_csv('fruits.csv', index=False)\n",
    "\n",
    "df = pd.read_csv('fruits.csv')\n"
   ]
  },
  {
   "cell_type": "code",
   "execution_count": 21,
   "id": "f3115a37",
   "metadata": {},
   "outputs": [],
   "source": [
    "\n",
    "new_fruit = np.array([165, 5.5])\n",
    "k = 3"
   ]
  },
  {
   "cell_type": "code",
   "execution_count": 23,
   "id": "9f05f68f",
   "metadata": {},
   "outputs": [],
   "source": [
    "\n",
    "def euclidean_distance(point1, point2):\n",
    "    return np.sqrt(np.sum((point1 - point2) ** 2))\n",
    "\n",
    "def manhattan_distance(point1, point2):\n",
    "    return np.sum(np.abs(point1 - point2))\n",
    "\n",
    "def minkowski_distance(point1, point2, p=3):\n",
    "    return np.power(np.sum(np.abs(point1 - point2) ** p), 1/p)"
   ]
  },
  {
   "cell_type": "code",
   "execution_count": 24,
   "id": "9b7959a2",
   "metadata": {},
   "outputs": [],
   "source": [
    "distances = []\n",
    "for index, row in df.iterrows():\n",
    "    train_point = np.array([row['weights'], row['sweetness_level']])\n",
    "    dist = {\n",
    "        'index': index,\n",
    "        'euclidean': euclidean_distance(new_fruit, train_point),\n",
    "        'manhattan': manhattan_distance(new_fruit, train_point),\n",
    "        'minkowski': minkowski_distance(new_fruit, train_point),\n",
    "        'label': row['label']\n",
    "    }\n",
    "    distances.append(dist)\n"
   ]
  },
  {
   "cell_type": "code",
   "execution_count": 25,
   "id": "e77835fc",
   "metadata": {},
   "outputs": [],
   "source": [
    "\n",
    "distances_sorted = sorted(distances, key=lambda x: x['euclidean'])\n",
    "top_k_neighbors = distances_sorted[:k]\n"
   ]
  },
  {
   "cell_type": "code",
   "execution_count": 26,
   "id": "9c1e7753",
   "metadata": {},
   "outputs": [],
   "source": [
    "\n",
    "labels = [neighbor['label'] for neighbor in top_k_neighbors]\n",
    "predicted_label = Counter(labels).most_common(1)[0][0]"
   ]
  },
  {
   "cell_type": "code",
   "execution_count": 27,
   "id": "25b81ce0",
   "metadata": {},
   "outputs": [
    {
     "name": "stdout",
     "output_type": "stream",
     "text": [
      "Predicted label for the new fruit: Apple\n",
      "Calculated Distances:\n",
      "Index: 3, Euclidean: 5.02, Manhattan: 5.50, Minkowski: 5.00, Label: Orange\n",
      "Index: 4, Euclidean: 5.02, Manhattan: 5.50, Minkowski: 5.00, Label: Apple\n",
      "Index: 0, Euclidean: 15.07, Manhattan: 16.50, Minkowski: 15.00, Label: Apple\n",
      "Index: 2, Euclidean: 15.07, Manhattan: 16.50, Minkowski: 15.00, Label: Orange\n",
      "Index: 5, Euclidean: 25.12, Manhattan: 27.50, Minkowski: 25.01, Label: Orange\n",
      "Index: 1, Euclidean: 35.00, Manhattan: 35.50, Minkowski: 35.00, Label: Apple\n"
     ]
    }
   ],
   "source": [
    "\n",
    "print(f\"Predicted label for the new fruit: {predicted_label}\")\n",
    "print(\"Calculated Distances:\")\n",
    "for neighbor in distances_sorted:\n",
    "    print(f\"Index: {neighbor['index']}, Euclidean: {neighbor['euclidean']:.2f}, \"\n",
    "          f\"Manhattan: {neighbor['manhattan']:.2f}, Minkowski: {neighbor['minkowski']:.2f}, \"\n",
    "          f\"Label: {neighbor['label']}\")\n"
   ]
  },
  {
   "cell_type": "code",
   "execution_count": 28,
   "id": "6d5d819e",
   "metadata": {},
   "outputs": [],
   "source": [
    "\n",
    "label_map = {'Apple': 0, 'Orange': 1}\n",
    "df['label_numeric'] = df['label'].map(label_map)\n"
   ]
  },
  {
   "cell_type": "code",
   "execution_count": 31,
   "id": "ad569638",
   "metadata": {},
   "outputs": [
    {
     "data": {
      "image/png": "[encoded data removed]",
      "text/plain": [
       "<Figure size 640x480 with 1 Axes>"
      ]
     },
     "metadata": {},
     "output_type": "display_data"
    }
   ],
   "source": [
    "\n",
    "colors = {0: 'red', 1: 'orange'}\n",
    "plt.scatter(df['weights'], df['sweetness_level'], \n",
    "            c=df['label_numeric'].map(colors), label='Fruits', s=100)\n",
    "\n",
    "plt.scatter(new_fruit[0], new_fruit[1], color='blue', label='New Fruit (165g, 5.5)', s=150)\n",
    "\n",
    "x_min, x_max = df['weights'].min() - 10, df['weights'].max() + 10\n",
    "y_min, y_max = df['sweetness_level'].min() - 1, df['sweetness_level'].max() + 1\n",
    "xx, yy = np.meshgrid(np.arange(x_min, x_max, 1), np.arange(y_min, y_max, 0.1))\n",
    "\n",
    "\n",
    "Z = np.array([\n",
    "    Counter([\n",
    "        df.iloc[i]['label'] for i in np.argsort(\n",
    "            [euclidean_distance(np.array([xx_, yy_]), np.array([row['weights'], row['sweetness_level']])) for _, row in df.iterrows()]\n",
    "        )[:k]\n",
    "    ]).most_common(1)[0][0]\n",
    "    for xx_, yy_ in zip(np.ravel(xx), np.ravel(yy))\n",
    "])\n",
    "\n",
    "Z_numeric = np.array([label_map[label] for label in Z]).reshape(xx.shape)\n",
    "plt.contourf(xx, yy, Z_numeric, alpha=0.5, cmap='coolwarm')\n",
    "plt.xlabel('Weight (g)')\n",
    "plt.ylabel('Sweetness Level')\n",
    "plt.title('KNN Fruit Classification')\n",
    "plt.legend()\n",
    "plt.show()\n"
   ]
  },
  {
   "cell_type": "markdown",
   "id": "1d9fc9b7",
   "metadata": {},
   "source": [
    "QUESTION 1B"
   ]
  },
  {
   "cell_type": "code",
   "execution_count": 45,
   "id": "d370bd53",
   "metadata": {},
   "outputs": [
    {
     "name": "stderr",
     "output_type": "stream",
     "text": [
      "/usr/lib/python3/dist-packages/sklearn/base.py:493: UserWarning: X does not have valid feature names, but KNeighborsClassifier was fitted with feature names\n",
      "  warnings.warn(\n",
      "/usr/lib/python3/dist-packages/sklearn/base.py:493: UserWarning: X does not have valid feature names, but KNeighborsClassifier was fitted with feature names\n",
      "  warnings.warn(\n"
     ]
    },
    {
     "name": "stdout",
     "output_type": "stream",
     "text": [
      "Predicted label for the new fruit (165g, 5.5): Orange\n",
      "Euclidean distances: [15.07481343 35.00357125 15.07481343  5.02493781  5.02493781 25.12468905]\n",
      "Manhattan distances: [16.5 35.5 16.5  5.5  5.5 27.5]\n",
      "Minkowski distances: [15.00499833 35.00003401 15.00499833  5.00166611  5.00166611 25.00833056]\n"
     ]
    },
    {
     "data": {
      "image/png": "[encoded data removed]",
      "text/plain": [
       "<Figure size 640x480 with 1 Axes>"
      ]
     },
     "metadata": {},
     "output_type": "display_data"
    }
   ],
   "source": [
    "import matplotlib.pyplot as plt\n",
    "from sklearn.neighbors import KNeighborsClassifier\n",
    "from sklearn.metrics import pairwise_distances\n",
    "\n",
    "data = {\n",
    "    'fruitId': [1, 2, 3, 4, 5, 6],\n",
    "    'weights': [180, 200, 150, 170, 160, 140],\n",
    "    'sweetness_level': [7, 6, 4, 5, 6, 3],\n",
    "    'label': ['Apple', 'Apple', 'Orange', 'Orange', 'Apple', 'Orange']\n",
    "}\n",
    "\n",
    "df = pd.DataFrame(data)\n",
    "\n",
    "new_fruit = np.array([[165, 5.5]])\n",
    "k = 3 \n",
    "\n",
    "X = df[['weights', 'sweetness_level']]\n",
    "y = df['label']\n",
    "knn = KNeighborsClassifier(n_neighbors=k)\n",
    "knn.fit(X, y)\n",
    "\n",
    "predicted_label = knn.predict(new_fruit)\n",
    "print(f\"Predicted label for the new fruit (165g, 5.5): {predicted_label[0]}\")\n",
    "\n",
    "euclidean_distances = pairwise_distances(X, new_fruit, metric='euclidean')\n",
    "manhattan_distances = pairwise_distances(X, new_fruit, metric='manhattan')\n",
    "minkowski_distances = pairwise_distances(X, new_fruit, metric='minkowski', p=3)\n",
    "\n",
    "print(\"Euclidean distances:\", euclidean_distances.flatten())\n",
    "print(\"Manhattan distances:\", manhattan_distances.flatten())\n",
    "print(\"Minkowski distances:\", minkowski_distances.flatten())\n",
    "\n",
    "colors = {'Apple': 'red', 'Orange': 'orange'}\n",
    "plt.scatter(df['weights'], df['sweetness_level'], \n",
    "            c=df['label'].map(colors), label='Fruits', s=100)\n",
    "\n",
    "plt.scatter(new_fruit[0][0], new_fruit[0][1], color='blue', label='New Fruit (165g, 5.5)', s=150)\n",
    "\n",
    "x_min, x_max = df['weights'].min() - 10, df['weights'].max() + 10\n",
    "y_min, y_max = df['sweetness_level'].min() - 1, df['sweetness_level'].max() + 1\n",
    "xx, yy = np.meshgrid(np.arange(x_min, x_max, 1), np.arange(y_min, y_max, 0.1))\n",
    "\n",
    "Z = knn.predict(np.c_[xx.ravel(), yy.ravel()])\n",
    "\n",
    "Z_numeric = np.array([1 if label == 'Orange' else 0 for label in Z]).reshape(xx.shape)\n",
    "\n",
    "plt.contourf(xx, yy, Z_numeric, alpha=0.5, cmap='coolwarm')\n",
    "plt.xlabel('Weight (g)')\n",
    "plt.ylabel('Sweetness Level')\n",
    "plt.title('KNN Fruit Classification with Decision Boundary')\n",
    "plt.legend()\n",
    "plt.show()\n"
   ]
  },
  {
   "cell_type": "markdown",
   "id": "7169699e",
   "metadata": {},
   "source": [
    "QUESTION 2A"
   ]
  },
  {
   "cell_type": "code",
   "execution_count": 46,
   "id": "e38faf0c",
   "metadata": {},
   "outputs": [
    {
     "name": "stdout",
     "output_type": "stream",
     "text": [
      "Overall Entropy: 1.0000\n",
      "Information Gain for Age: 1.0000\n",
      "Information Gain for Blood Pressure: 1.0000\n",
      "Information Gain for Cholesterol: 1.0000\n",
      "Best feature to split on: Age\n",
      "\n",
      "Decision Tree:\n",
      "{'Age': {25: 'Healthy', 30: 'Sick', 35: 'Healthy', 40: 'Sick', 45: 'Healthy', 50: 'Sick', 55: 'Healthy', 60: 'Sick', 65: 'Sick'}}\n",
      "\n",
      "Predicted Diagnosis for 50-year-old with low BP and normal cholesterol: Sick\n"
     ]
    }
   ],
   "source": [
    "import pandas as pd\n",
    "import numpy as np\n",
    "from collections import Counter\n",
    "data = {\n",
    "    'ID': [1, 2, 3, 4, 5, 6, 7, 8, 9, 10],\n",
    "    'Age': [30, 45, 50, 35, 60, 55, 40, 25, 65, 45],\n",
    "    'Blood Pressure': ['High', 'Low', 'High', 'Low', 'High', 'Low', 'High', 'Low', 'High', 'Low'],\n",
    "    'Cholesterol': ['High', 'Normal', 'High', 'Normal', 'High', 'Normal', 'High', 'Normal', 'High', 'Normal'],\n",
    "    'Diagnosis': ['Sick', 'Healthy', 'Sick', 'Healthy', 'Sick', 'Healthy', 'Sick', 'Healthy', 'Sick', 'Healthy']\n",
    "}\n",
    "\n",
    "df = pd.DataFrame(data)\n",
    "\n",
    "def entropy(target_col):\n",
    "    elements, counts = np.unique(target_col, return_counts=True)\n",
    "    ent = 0\n",
    "    for count in counts:\n",
    "        probability = count / len(target_col)\n",
    "        ent -= probability * np.log2(probability)\n",
    "    return ent\n",
    "\n",
    "overall_entropy = entropy(df['Diagnosis'])\n",
    "print(f\"Overall Entropy: {overall_entropy:.4f}\")\n",
    "\n",
    "def info_gain(data, feature, target):\n",
    "    total_entropy = entropy(data[target])\n",
    "    values, counts = np.unique(data[feature], return_counts=True)\n",
    "    weighted_entropy = 0\n",
    "    for value, count in zip(values, counts):\n",
    "        subset = data[data[feature] == value]\n",
    "        weighted_entropy += (count / len(data)) * entropy(subset[target])\n",
    "    return total_entropy - weighted_entropy\n",
    "features = ['Age', 'Blood Pressure', 'Cholesterol']\n",
    "info_gains = {feature: info_gain(df, feature, 'Diagnosis') for feature in features}\n",
    "for feature, gain in info_gains.items():\n",
    "    print(f\"Information Gain for {feature}: {gain:.4f}\")\n",
    "\n",
    "best_feature = max(info_gains, key=info_gains.get)\n",
    "print(f\"Best feature to split on: {best_feature}\")\n",
    "\n",
    "def build_tree(data, target, features):\n",
    "    if len(np.unique(data[target])) == 1:\n",
    "        return np.unique(data[target])[0]\n",
    "\n",
    "    if len(features) == 0:\n",
    "        return Counter(data[target]).most_common(1)[0][0]\n",
    "\n",
    "    best_feature = max(features, key=lambda feature: info_gain(data, feature, target))\n",
    "\n",
    "    tree = {best_feature: {}}\n",
    "    \n",
    "    for value in np.unique(data[best_feature]):\n",
    "        subset = data[data[best_feature] == value]\n",
    "        subtree = build_tree(subset, target, [f for f in features if f != best_feature])\n",
    "        tree[best_feature][value] = subtree\n",
    "        \n",
    "    return tree\n",
    "\n",
    "decision_tree = build_tree(df, 'Diagnosis', features)\n",
    "print(\"\\nDecision Tree:\")\n",
    "print(decision_tree)\n",
    "\n",
    "def predict(tree, instance):\n",
    "    if not isinstance(tree, dict):\n",
    "        return tree \n",
    "    feature = next(iter(tree))\n",
    "    value = instance[feature]\n",
    "    if value in tree[feature]:\n",
    "        return predict(tree[feature][value], instance)\n",
    "    else:\n",
    "        return None \n",
    "\n",
    "new_patient = {'Age': 50, 'Blood Pressure': 'Low', 'Cholesterol': 'Normal'}\n",
    "predicted_diagnosis = predict(decision_tree, new_patient)\n",
    "print(f\"\\nPredicted Diagnosis for 50-year-old with low BP and normal cholesterol: {predicted_diagnosis}\")\n"
   ]
  },
  {
   "cell_type": "markdown",
   "id": "70269de5",
   "metadata": {},
   "source": [
    "QUESTION 2B"
   ]
  },
  {
   "cell_type": "code",
   "execution_count": 47,
   "id": "0446f2ea",
   "metadata": {},
   "outputs": [
    {
     "name": "stdout",
     "output_type": "stream",
     "text": [
      "Decision Tree Rules:\n",
      "\n",
      "|--- Cholesterol <= 0.50\n",
      "|   |--- class: 1\n",
      "|--- Cholesterol >  0.50\n",
      "|   |--- class: 0\n",
      "\n",
      "\n",
      "Predicted Diagnosis for 50-year-old with low blood pressure and normal cholesterol: Healthy\n"
     ]
    },
    {
     "name": "stderr",
     "output_type": "stream",
     "text": [
      "/usr/lib/python3/dist-packages/sklearn/base.py:493: UserWarning: X does not have valid feature names, but DecisionTreeClassifier was fitted with feature names\n",
      "  warnings.warn(\n"
     ]
    }
   ],
   "source": [
    "import pandas as pd\n",
    "from sklearn.tree import DecisionTreeClassifier, export_text\n",
    "from sklearn.preprocessing import LabelEncoder\n",
    "import numpy as np\n",
    "\n",
    "\n",
    "data = {\n",
    "    'ID': [1, 2, 3, 4, 5, 6, 7, 8, 9, 10],\n",
    "    'Age': [30, 45, 50, 35, 60, 55, 40, 25, 65, 45],\n",
    "    'Blood Pressure': ['High', 'Low', 'High', 'Low', 'High', 'Low', 'High', 'Low', 'High', 'Low'],\n",
    "    'Cholesterol': ['High', 'Normal', 'High', 'Normal', 'High', 'Normal', 'High', 'Normal', 'High', 'Normal'],\n",
    "    'Diagnosis': ['Sick', 'Healthy', 'Sick', 'Healthy', 'Sick', 'Healthy', 'Sick', 'Healthy', 'Sick', 'Healthy']\n",
    "}\n",
    "\n",
    "df = pd.DataFrame(data)\n",
    "\n",
    "le_bp = LabelEncoder()\n",
    "le_chol = LabelEncoder()\n",
    "le_diag = LabelEncoder()\n",
    "\n",
    "df['Blood Pressure'] = le_bp.fit_transform(df['Blood Pressure'])\n",
    "df['Cholesterol'] = le_chol.fit_transform(df['Cholesterol'])\n",
    "df['Diagnosis'] = le_diag.fit_transform(df['Diagnosis'])  # Healthy: 0, Sick: 1\n",
    "\n",
    "\n",
    "X = df[['Age', 'Blood Pressure', 'Cholesterol']]\n",
    "y = df['Diagnosis']\n",
    "\n",
    "\n",
    "clf = DecisionTreeClassifier(criterion='entropy')  # Using entropy for ID3-like behavior\n",
    "clf.fit(X, y)\n",
    "\n",
    "tree_rules = export_text(clf, feature_names=list(X.columns))\n",
    "print(\"Decision Tree Rules:\\n\")\n",
    "print(tree_rules)\n",
    "\n",
    "\n",
    "new_patient = np.array([[50, le_bp.transform(['Low'])[0], le_chol.transform(['Normal'])[0]]])\n",
    "predicted_diagnosis = clf.predict(new_patient)\n",
    "predicted_label = le_diag.inverse_transform(predicted_diagnosis)\n",
    "\n",
    "print(f\"\\nPredicted Diagnosis for 50-year-old with low blood pressure and normal cholesterol: {predicted_label[0]}\")\n"
   ]
  },
  {
   "cell_type": "code",
   "execution_count": null,
   "id": "b271c3ff",
   "metadata": {},
   "outputs": [],
   "source": []
  }
 ],
 "metadata": {
  "kernelspec": {
   "display_name": "Python 3 (ipykernel)",
   "language": "python",
   "name": "python3"
  },
  "language_info": {
   "codemirror_mode": {
    "name": "ipython",
    "version": 3
   },
   "file_extension": ".py",
   "mimetype": "text/x-python",
   "name": "python",
   "nbconvert_exporter": "python",
   "pygments_lexer": "ipython3",
   "version": "3.12.3"
  }
 },
 "nbformat": 4,
 "nbformat_minor": 5
}
