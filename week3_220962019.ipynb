{
 "cells": [
  {
   "cell_type": "code",
   "execution_count": 7,
   "id": "b51e9fd2",
   "metadata": {},
   "outputs": [],
   "source": [
    "import pandas as pd\n",
    "import numpy as np\n",
    "from sklearn.model_selection import train_test_split"
   ]
  },
  {
   "cell_type": "code",
   "execution_count": 3,
   "id": "0e7015b3",
   "metadata": {},
   "outputs": [],
   "source": [
    "#######QUESTION 1########\n",
    "#1.loading the data in pandas\n",
    "df=pd.read_csv('hepatitis_csv.csv')"
   ]
  },
  {
   "cell_type": "code",
   "execution_count": 6,
   "id": "593e9229",
   "metadata": {},
   "outputs": [
    {
     "data": {
      "text/html": [
       "<div>\n",
       "<style scoped>\n",
       "    .dataframe tbody tr th:only-of-type {\n",
       "        vertical-align: middle;\n",
       "    }\n",
       "\n",
       "    .dataframe tbody tr th {\n",
       "        vertical-align: top;\n",
       "    }\n",
       "\n",
       "    .dataframe thead th {\n",
       "        text-align: right;\n",
       "    }\n",
       "</style>\n",
       "<table border=\"1\" class=\"dataframe\">\n",
       "  <thead>\n",
       "    <tr style=\"text-align: right;\">\n",
       "      <th></th>\n",
       "      <th>age</th>\n",
       "      <th>sex</th>\n",
       "      <th>steroid</th>\n",
       "      <th>antivirals</th>\n",
       "      <th>fatigue</th>\n",
       "      <th>malaise</th>\n",
       "      <th>anorexia</th>\n",
       "      <th>liver_big</th>\n",
       "      <th>liver_firm</th>\n",
       "      <th>spleen_palpable</th>\n",
       "      <th>spiders</th>\n",
       "      <th>ascites</th>\n",
       "      <th>varices</th>\n",
       "      <th>bilirubin</th>\n",
       "      <th>alk_phosphate</th>\n",
       "      <th>sgot</th>\n",
       "      <th>albumin</th>\n",
       "      <th>protime</th>\n",
       "      <th>histology</th>\n",
       "      <th>class</th>\n",
       "    </tr>\n",
       "  </thead>\n",
       "  <tbody>\n",
       "    <tr>\n",
       "      <th>0</th>\n",
       "      <td>30</td>\n",
       "      <td>male</td>\n",
       "      <td>False</td>\n",
       "      <td>False</td>\n",
       "      <td>False</td>\n",
       "      <td>False</td>\n",
       "      <td>False</td>\n",
       "      <td>False</td>\n",
       "      <td>False</td>\n",
       "      <td>False</td>\n",
       "      <td>False</td>\n",
       "      <td>False</td>\n",
       "      <td>False</td>\n",
       "      <td>1.0</td>\n",
       "      <td>85.0</td>\n",
       "      <td>18.0</td>\n",
       "      <td>4.0</td>\n",
       "      <td>NaN</td>\n",
       "      <td>False</td>\n",
       "      <td>live</td>\n",
       "    </tr>\n",
       "    <tr>\n",
       "      <th>1</th>\n",
       "      <td>50</td>\n",
       "      <td>female</td>\n",
       "      <td>False</td>\n",
       "      <td>False</td>\n",
       "      <td>True</td>\n",
       "      <td>False</td>\n",
       "      <td>False</td>\n",
       "      <td>False</td>\n",
       "      <td>False</td>\n",
       "      <td>False</td>\n",
       "      <td>False</td>\n",
       "      <td>False</td>\n",
       "      <td>False</td>\n",
       "      <td>0.9</td>\n",
       "      <td>135.0</td>\n",
       "      <td>42.0</td>\n",
       "      <td>3.5</td>\n",
       "      <td>NaN</td>\n",
       "      <td>False</td>\n",
       "      <td>live</td>\n",
       "    </tr>\n",
       "    <tr>\n",
       "      <th>2</th>\n",
       "      <td>78</td>\n",
       "      <td>female</td>\n",
       "      <td>True</td>\n",
       "      <td>False</td>\n",
       "      <td>True</td>\n",
       "      <td>False</td>\n",
       "      <td>False</td>\n",
       "      <td>True</td>\n",
       "      <td>False</td>\n",
       "      <td>False</td>\n",
       "      <td>False</td>\n",
       "      <td>False</td>\n",
       "      <td>False</td>\n",
       "      <td>0.7</td>\n",
       "      <td>96.0</td>\n",
       "      <td>32.0</td>\n",
       "      <td>4.0</td>\n",
       "      <td>NaN</td>\n",
       "      <td>False</td>\n",
       "      <td>live</td>\n",
       "    </tr>\n",
       "    <tr>\n",
       "      <th>3</th>\n",
       "      <td>31</td>\n",
       "      <td>female</td>\n",
       "      <td>NaN</td>\n",
       "      <td>True</td>\n",
       "      <td>False</td>\n",
       "      <td>False</td>\n",
       "      <td>False</td>\n",
       "      <td>True</td>\n",
       "      <td>False</td>\n",
       "      <td>False</td>\n",
       "      <td>False</td>\n",
       "      <td>False</td>\n",
       "      <td>False</td>\n",
       "      <td>0.7</td>\n",
       "      <td>46.0</td>\n",
       "      <td>52.0</td>\n",
       "      <td>4.0</td>\n",
       "      <td>80.0</td>\n",
       "      <td>False</td>\n",
       "      <td>live</td>\n",
       "    </tr>\n",
       "    <tr>\n",
       "      <th>4</th>\n",
       "      <td>34</td>\n",
       "      <td>female</td>\n",
       "      <td>True</td>\n",
       "      <td>False</td>\n",
       "      <td>False</td>\n",
       "      <td>False</td>\n",
       "      <td>False</td>\n",
       "      <td>True</td>\n",
       "      <td>False</td>\n",
       "      <td>False</td>\n",
       "      <td>False</td>\n",
       "      <td>False</td>\n",
       "      <td>False</td>\n",
       "      <td>1.0</td>\n",
       "      <td>NaN</td>\n",
       "      <td>200.0</td>\n",
       "      <td>4.0</td>\n",
       "      <td>NaN</td>\n",
       "      <td>False</td>\n",
       "      <td>live</td>\n",
       "    </tr>\n",
       "    <tr>\n",
       "      <th>...</th>\n",
       "      <td>...</td>\n",
       "      <td>...</td>\n",
       "      <td>...</td>\n",
       "      <td>...</td>\n",
       "      <td>...</td>\n",
       "      <td>...</td>\n",
       "      <td>...</td>\n",
       "      <td>...</td>\n",
       "      <td>...</td>\n",
       "      <td>...</td>\n",
       "      <td>...</td>\n",
       "      <td>...</td>\n",
       "      <td>...</td>\n",
       "      <td>...</td>\n",
       "      <td>...</td>\n",
       "      <td>...</td>\n",
       "      <td>...</td>\n",
       "      <td>...</td>\n",
       "      <td>...</td>\n",
       "      <td>...</td>\n",
       "    </tr>\n",
       "    <tr>\n",
       "      <th>150</th>\n",
       "      <td>46</td>\n",
       "      <td>female</td>\n",
       "      <td>True</td>\n",
       "      <td>False</td>\n",
       "      <td>True</td>\n",
       "      <td>True</td>\n",
       "      <td>True</td>\n",
       "      <td>True</td>\n",
       "      <td>False</td>\n",
       "      <td>False</td>\n",
       "      <td>True</td>\n",
       "      <td>True</td>\n",
       "      <td>True</td>\n",
       "      <td>7.6</td>\n",
       "      <td>NaN</td>\n",
       "      <td>242.0</td>\n",
       "      <td>3.3</td>\n",
       "      <td>50.0</td>\n",
       "      <td>True</td>\n",
       "      <td>die</td>\n",
       "    </tr>\n",
       "    <tr>\n",
       "      <th>151</th>\n",
       "      <td>44</td>\n",
       "      <td>female</td>\n",
       "      <td>True</td>\n",
       "      <td>False</td>\n",
       "      <td>True</td>\n",
       "      <td>False</td>\n",
       "      <td>False</td>\n",
       "      <td>True</td>\n",
       "      <td>True</td>\n",
       "      <td>False</td>\n",
       "      <td>False</td>\n",
       "      <td>False</td>\n",
       "      <td>False</td>\n",
       "      <td>0.9</td>\n",
       "      <td>126.0</td>\n",
       "      <td>142.0</td>\n",
       "      <td>4.3</td>\n",
       "      <td>NaN</td>\n",
       "      <td>True</td>\n",
       "      <td>live</td>\n",
       "    </tr>\n",
       "    <tr>\n",
       "      <th>152</th>\n",
       "      <td>61</td>\n",
       "      <td>female</td>\n",
       "      <td>False</td>\n",
       "      <td>False</td>\n",
       "      <td>True</td>\n",
       "      <td>True</td>\n",
       "      <td>False</td>\n",
       "      <td>False</td>\n",
       "      <td>True</td>\n",
       "      <td>False</td>\n",
       "      <td>True</td>\n",
       "      <td>False</td>\n",
       "      <td>False</td>\n",
       "      <td>0.8</td>\n",
       "      <td>75.0</td>\n",
       "      <td>20.0</td>\n",
       "      <td>4.1</td>\n",
       "      <td>NaN</td>\n",
       "      <td>True</td>\n",
       "      <td>live</td>\n",
       "    </tr>\n",
       "    <tr>\n",
       "      <th>153</th>\n",
       "      <td>53</td>\n",
       "      <td>male</td>\n",
       "      <td>False</td>\n",
       "      <td>False</td>\n",
       "      <td>True</td>\n",
       "      <td>False</td>\n",
       "      <td>False</td>\n",
       "      <td>True</td>\n",
       "      <td>False</td>\n",
       "      <td>True</td>\n",
       "      <td>True</td>\n",
       "      <td>False</td>\n",
       "      <td>True</td>\n",
       "      <td>1.5</td>\n",
       "      <td>81.0</td>\n",
       "      <td>19.0</td>\n",
       "      <td>4.1</td>\n",
       "      <td>48.0</td>\n",
       "      <td>True</td>\n",
       "      <td>live</td>\n",
       "    </tr>\n",
       "    <tr>\n",
       "      <th>154</th>\n",
       "      <td>43</td>\n",
       "      <td>female</td>\n",
       "      <td>True</td>\n",
       "      <td>False</td>\n",
       "      <td>True</td>\n",
       "      <td>False</td>\n",
       "      <td>False</td>\n",
       "      <td>True</td>\n",
       "      <td>False</td>\n",
       "      <td>True</td>\n",
       "      <td>True</td>\n",
       "      <td>True</td>\n",
       "      <td>False</td>\n",
       "      <td>1.2</td>\n",
       "      <td>100.0</td>\n",
       "      <td>19.0</td>\n",
       "      <td>3.1</td>\n",
       "      <td>42.0</td>\n",
       "      <td>True</td>\n",
       "      <td>die</td>\n",
       "    </tr>\n",
       "  </tbody>\n",
       "</table>\n",
       "<p>155 rows × 20 columns</p>\n",
       "</div>"
      ],
      "text/plain": [
       "     age     sex steroid  antivirals fatigue malaise anorexia liver_big  \\\n",
       "0     30    male   False       False   False   False    False     False   \n",
       "1     50  female   False       False    True   False    False     False   \n",
       "2     78  female    True       False    True   False    False      True   \n",
       "3     31  female     NaN        True   False   False    False      True   \n",
       "4     34  female    True       False   False   False    False      True   \n",
       "..   ...     ...     ...         ...     ...     ...      ...       ...   \n",
       "150   46  female    True       False    True    True     True      True   \n",
       "151   44  female    True       False    True   False    False      True   \n",
       "152   61  female   False       False    True    True    False     False   \n",
       "153   53    male   False       False    True   False    False      True   \n",
       "154   43  female    True       False    True   False    False      True   \n",
       "\n",
       "    liver_firm spleen_palpable spiders ascites varices  bilirubin  \\\n",
       "0        False           False   False   False   False        1.0   \n",
       "1        False           False   False   False   False        0.9   \n",
       "2        False           False   False   False   False        0.7   \n",
       "3        False           False   False   False   False        0.7   \n",
       "4        False           False   False   False   False        1.0   \n",
       "..         ...             ...     ...     ...     ...        ...   \n",
       "150      False           False    True    True    True        7.6   \n",
       "151       True           False   False   False   False        0.9   \n",
       "152       True           False    True   False   False        0.8   \n",
       "153      False            True    True   False    True        1.5   \n",
       "154      False            True    True    True   False        1.2   \n",
       "\n",
       "     alk_phosphate   sgot  albumin  protime  histology class  \n",
       "0             85.0   18.0      4.0      NaN      False  live  \n",
       "1            135.0   42.0      3.5      NaN      False  live  \n",
       "2             96.0   32.0      4.0      NaN      False  live  \n",
       "3             46.0   52.0      4.0     80.0      False  live  \n",
       "4              NaN  200.0      4.0      NaN      False  live  \n",
       "..             ...    ...      ...      ...        ...   ...  \n",
       "150            NaN  242.0      3.3     50.0       True   die  \n",
       "151          126.0  142.0      4.3      NaN       True  live  \n",
       "152           75.0   20.0      4.1      NaN       True  live  \n",
       "153           81.0   19.0      4.1     48.0       True  live  \n",
       "154          100.0   19.0      3.1     42.0       True   die  \n",
       "\n",
       "[155 rows x 20 columns]"
      ]
     },
     "execution_count": 6,
     "metadata": {},
     "output_type": "execute_result"
    }
   ],
   "source": [
    "df"
   ]
  },
  {
   "cell_type": "code",
   "execution_count": 5,
   "id": "a90ab83a",
   "metadata": {},
   "outputs": [
    {
     "data": {
      "text/plain": [
       "Index(['age', 'sex', 'steroid', 'antivirals', 'fatigue', 'malaise', 'anorexia',\n",
       "       'liver_big', 'liver_firm', 'spleen_palpable', 'spiders', 'ascites',\n",
       "       'varices', 'bilirubin', 'alk_phosphate', 'sgot', 'albumin', 'protime',\n",
       "       'histology', 'class'],\n",
       "      dtype='object')"
      ]
     },
     "execution_count": 5,
     "metadata": {},
     "output_type": "execute_result"
    }
   ],
   "source": [
    "df.columns"
   ]
  },
  {
   "cell_type": "code",
   "execution_count": 9,
   "id": "86cce3aa",
   "metadata": {},
   "outputs": [],
   "source": [
    "#2.Drop columns that aren’t useful.\n",
    "columns_to_drop = ['protime', 'bilirubin']\n",
    "df = df.drop(columns=columns_to_drop)"
   ]
  },
  {
   "cell_type": "code",
   "execution_count": 10,
   "id": "4cf74153",
   "metadata": {},
   "outputs": [],
   "source": [
    "#3.dropping rows with missing coloumns\n",
    "df=df.dropna()"
   ]
  },
  {
   "cell_type": "code",
   "execution_count": 11,
   "id": "59134ee3",
   "metadata": {},
   "outputs": [],
   "source": [
    "#4.Create dummy variables.\n",
    "df = pd.get_dummies(df, columns=['sex', 'steroid', 'antivirals', 'fatigue', 'malaise',\n",
    "                                 'anorexia', 'liver_big', 'liver_firm', 'spleen_palpable',\n",
    "                                 'spiders', 'ascites', 'varices', 'histology'], drop_first=True)\n"
   ]
  },
  {
   "cell_type": "code",
   "execution_count": 12,
   "id": "b5301fdd",
   "metadata": {},
   "outputs": [
    {
     "name": "stdout",
     "output_type": "stream",
     "text": [
      "<class 'pandas.core.frame.DataFrame'>\n",
      "Index: 80 entries, 5 to 154\n",
      "Data columns (total 18 columns):\n",
      " #   Column                Non-Null Count  Dtype  \n",
      "---  ------                --------------  -----  \n",
      " 0   age                   80 non-null     int64  \n",
      " 1   alk_phosphate         80 non-null     float64\n",
      " 2   sgot                  80 non-null     float64\n",
      " 3   albumin               80 non-null     float64\n",
      " 4   class                 80 non-null     object \n",
      " 5   sex_male              80 non-null     bool   \n",
      " 6   steroid_True          80 non-null     bool   \n",
      " 7   antivirals_True       80 non-null     bool   \n",
      " 8   fatigue_True          80 non-null     bool   \n",
      " 9   malaise_True          80 non-null     bool   \n",
      " 10  anorexia_True         80 non-null     bool   \n",
      " 11  liver_big_True        80 non-null     bool   \n",
      " 12  liver_firm_True       80 non-null     bool   \n",
      " 13  spleen_palpable_True  80 non-null     bool   \n",
      " 14  spiders_True          80 non-null     bool   \n",
      " 15  ascites_True          80 non-null     bool   \n",
      " 16  varices_True          80 non-null     bool   \n",
      " 17  histology_True        80 non-null     bool   \n",
      "dtypes: bool(13), float64(3), int64(1), object(1)\n",
      "memory usage: 4.8+ KB\n"
     ]
    }
   ],
   "source": [
    "#5Take care of missing data.\n",
    "df=df.fillna(df.median)\n",
    "df.info()"
   ]
  },
  {
   "cell_type": "code",
   "execution_count": 13,
   "id": "8e03ad26",
   "metadata": {},
   "outputs": [],
   "source": [
    "#7. Divide the data set into training data and test data.\n",
    "# Separate features and target variable\n",
    "X = df.drop('class', axis=1)  # Features\n",
    "y = df['class']  # Target variable\n",
    "\n",
    "# Split the data into training and test sets\n",
    "X_train, X_test, y_train, y_test = train_test_split(X, y, test_size=0.2, random_state=42)"
   ]
  },
  {
   "cell_type": "code",
   "execution_count": 14,
   "id": "6a7c002f",
   "metadata": {},
   "outputs": [],
   "source": [
    "#6Convert the data frame to NumPy.\n",
    "# Optionally, convert these splits to NumPy arrays\n",
    "X_train_np = X_train.to_numpy()\n",
    "X_test_np = X_test.to_numpy()\n",
    "y_train_np = y_train.to_numpy()\n",
    "y_test_np = y_test.to_numpy()"
   ]
  },
  {
   "cell_type": "code",
   "execution_count": 15,
   "id": "f2862853",
   "metadata": {},
   "outputs": [
    {
     "name": "stdout",
     "output_type": "stream",
     "text": [
      "(64, 17) (16, 17) (64,) (16,)\n"
     ]
    }
   ],
   "source": [
    "print(X_train_np.shape, X_test_np.shape, y_train_np.shape, y_test_np.shape)"
   ]
  },
  {
   "cell_type": "markdown",
   "id": "f4ca9471",
   "metadata": {},
   "source": [
    "###QUESTION 2#####"
   ]
  },
  {
   "cell_type": "markdown",
   "id": "f57fc97f",
   "metadata": {},
   "source": [
    "a. Construct a CSV file with the following attributes:\n",
    "Study time in hours of ML lab course (x)\n",
    "Score out of 10 (y)\n",
    "The dataset should contain 10 rows."
   ]
  },
  {
   "cell_type": "code",
   "execution_count": 16,
   "id": "0addfbeb",
   "metadata": {},
   "outputs": [
    {
     "name": "stdout",
     "output_type": "stream",
     "text": [
      "CSV file 'study_scores.csv' created successfully.\n"
     ]
    }
   ],
   "source": [
    "import pandas as pd\n",
    "\n",
    "data = {\n",
    "    'Study_time_hours': [2, 3, 5, 1, 4, 6, 3, 7, 8, 2],\n",
    "    'Score_out_of_10': [5, 6, 8, 4, 7, 9, 6, 8, 9, 5]\n",
    "}\n",
    "\n",
    "df = pd.DataFrame(data)\n",
    "\n",
    "df.to_csv('study_scores.csv', index=False)\n",
    "\n",
    "print(\"CSV file 'study_scores.csv' created successfully.\")\n"
   ]
  },
  {
   "cell_type": "markdown",
   "id": "e2f238d3",
   "metadata": {},
   "source": [
    "b. Create a regression model and display the following:\n",
    "Coefficients: B0 (intercept) and B1 (slope)\n",
    "RMSE (Root Mean Square Error)\n",
    "Predicted responses"
   ]
  },
  {
   "cell_type": "code",
   "execution_count": 17,
   "id": "729b866c",
   "metadata": {},
   "outputs": [
    {
     "name": "stdout",
     "output_type": "stream",
     "text": [
      "Intercept (B0): 3.74\n",
      "Slope (B1): 0.72\n",
      "RMSE: 0.51\n"
     ]
    }
   ],
   "source": [
    "import numpy as np\n",
    "import pandas as pd\n",
    "\n",
    "df = pd.read_csv('study_scores.csv')\n",
    "\n",
    "X = df['Study_time_hours'].values\n",
    "y = df['Score_out_of_10'].values\n",
    "\n",
    "#Pedhazur formula\n",
    "X_mean = np.mean(X)\n",
    "y_mean = np.mean(y)\n",
    "XY_mean = np.mean(X * y)\n",
    "X_squared_mean = np.mean(X ** 2)\n",
    "\n",
    "# Compute B1 (slope) and B0 (intercept)\n",
    "B1 = (XY_mean - X_mean * y_mean) / (X_squared_mean - X_mean ** 2)\n",
    "B0 = y_mean - B1 * X_mean\n",
    "\n",
    "# Compute predicted responses\n",
    "y_pred = B0 + B1 * X\n",
    "\n",
    "# Compute RMSE\n",
    "RMSE = np.sqrt(np.mean((y - y_pred) ** 2))\n",
    "\n",
    "\n",
    "print(f\"Intercept (B0): {B0:.2f}\")\n",
    "print(f\"Slope (B1): {B1:.2f}\")\n",
    "print(f\"RMSE: {RMSE:.2f}\")"
   ]
  },
  {
   "cell_type": "markdown",
   "id": "5decb2f5",
   "metadata": {},
   "source": [
    "Create a scatter plot of the data points in red color and plot the graph of x vs. predicted y in blue color."
   ]
  },
  {
   "cell_type": "code",
   "execution_count": 18,
   "id": "2d099a62",
   "metadata": {},
   "outputs": [
    {
     "data": {
      "image/png": "[encoded data removed]",
      "text/plain": [
       "<Figure size 640x480 with 1 Axes>"
      ]
     },
     "metadata": {},
     "output_type": "display_data"
    }
   ],
   "source": [
    "import matplotlib.pyplot as plt\n",
    "\n",
    "plt.scatter(X, y, color='red', label='Data Points')\n",
    "\n",
    "plt.plot(X, y_pred, color='blue', label='Regression Line')\n",
    "\n",
    "plt.xlabel('Study Time (hours)')\n",
    "plt.ylabel('Score out of 10')\n",
    "plt.title('Study Time vs. Score')\n",
    "plt.legend()\n",
    "plt.grid(True)\n",
    "plt.show()"
   ]
  },
  {
   "cell_type": "markdown",
   "id": "f2f51799",
   "metadata": {},
   "source": [
    "d. Implement the model using two methods:\n",
    "Pedhazur formula (intuitive)\n",
    "Calculus method (partial derivatives, refer to class notes)\n"
   ]
  },
  {
   "cell_type": "code",
   "execution_count": 21,
   "id": "eb844c99",
   "metadata": {},
   "outputs": [
    {
     "name": "stdout",
     "output_type": "stream",
     "text": [
      "0.7218813905930483x + 3.740286298568506\n",
      "[5.18404908 5.90593047 7.34969325 4.46216769 6.62781186 8.07157464\n",
      " 5.90593047 8.79345603 9.51533742 5.18404908]\n",
      "0.5116235835128636\n"
     ]
    }
   ],
   "source": [
    "#Pedhazur formula already done in the above part\n",
    "mat1=np.array([[len(X),np.sum(X)],[np.sum(X),np.sum(X**2)]])\n",
    "mat2=np.array([[np.sum(y),np.sum(X*y)]])\n",
    "coeffs=np.dot(np.linalg.inv(mat1),mat2.T)\n",
    "b0_mat,b1_mat=coeffs[0,0],coeffs[1,0]\n",
    "\n",
    "y_mat = b0_mat + b1_mat * X\n",
    "squared_errors = (y - y_mat) ** 2\n",
    "rmse_mat = np.sqrt(np.mean(squared_errors))\n",
    "\n",
    "print(f\"{b1_mat}x + {b0_mat}\")\n",
    "print(y_mat)\n",
    "print(rmse_mat)"
   ]
  },
  {
   "cell_type": "markdown",
   "id": "fa1b7850",
   "metadata": {},
   "source": [
    "e. Compare the coefficients obtained using both methods and compare them with the analytical solution.(in notes)"
   ]
  },
  {
   "cell_type": "markdown",
   "id": "1e983522",
   "metadata": {},
   "source": [
    "f. Test your model to predict the score obtained when the study time of a student is 10 hours.\n",
    "Note: Do not use scikit-learn."
   ]
  },
  {
   "cell_type": "code",
   "execution_count": 23,
   "id": "48b5c739",
   "metadata": {},
   "outputs": [
    {
     "name": "stdout",
     "output_type": "stream",
     "text": [
      "scikit-learn - B0 (Intercept): 3.740286298568507\n",
      "scikit-learn - B1 (Slope): 0.7218813905930471\n",
      "[5.18404908 5.90593047 7.34969325 4.46216769 6.62781186 8.07157464\n",
      " 5.90593047 8.79345603 9.51533742 5.18404908]\n",
      "0.5116235835128632\n"
     ]
    }
   ],
   "source": [
    "from sklearn.linear_model import LinearRegression\n",
    "from sklearn.metrics import mean_squared_error\n",
    "\n",
    "X = df[['Study_time_hours']].values \n",
    "y = df['Score_out_of_10'].values \n",
    "model = LinearRegression()\n",
    "model.fit(X, y)\n",
    "B1 = model.coef_[0]\n",
    "B0 = model.intercept_\n",
    "\n",
    "y_sklearn = model.predict(X)\n",
    "rmse_sklearn = np.sqrt(mean_squared_error(y, y_sklearn))\n",
    "\n",
    "\n",
    "print(f\"scikit-learn - B0 (Intercept): {B0}\")\n",
    "print(f\"scikit-learn - B1 (Slope): {B1}\")\n",
    "print(y_sklearn)\n",
    "print(rmse_sklearn)"
   ]
  },
  {
   "cell_type": "code",
   "execution_count": 27,
   "id": "85596cae",
   "metadata": {},
   "outputs": [
    {
     "name": "stdout",
     "output_type": "stream",
     "text": [
      "Pedhazur Method - Intercept (B0): 40.18\n",
      "Pedhazur Method - Slope (B1): 0.01\n",
      "Pedhazur Method - RMSE: 12.42\n"
     ]
    },
    {
     "data": {
      "image/png": "[encoded data removed]",
      "text/plain": [
       "<Figure size 640x480 with 1 Axes>"
      ]
     },
     "metadata": {},
     "output_type": "display_data"
    },
    {
     "name": "stdout",
     "output_type": "stream",
     "text": [
      "Matrix Method - Intercept (B0): -5665.69\n",
      "Matrix Method - Slope (B1): 66.44\n",
      "Matrix Method - RMSE: 5935.70\n",
      "Coefficients comparison:\n",
      "Pedhazur Method - Intercept (B0): 40.18, Slope (B1): 0.01\n",
      "Matrix Method - Intercept (B0): -5665.69, Slope (B1): 66.44\n",
      "Predicted Age for SGOT = 10 (Pedhazur Method): 40.30\n",
      "Predicted Age for SGOT = 10 (Matrix Method): -5001.29\n"
     ]
    }
   ],
   "source": [
    "import pandas as pd\n",
    "import numpy as np\n",
    "import matplotlib.pyplot as plt\n",
    "\n",
    "# Load the dataset\n",
    "df = pd.read_csv('hepatitis_csv.csv')\n",
    "\n",
    "# Select the features and target variable\n",
    "# Example: predicting 'age' from 'sgot'\n",
    "X = df[['sgot', 'age']].dropna()  # Drop rows where any of the selected columns have NaN values\n",
    "y = X['age'].values\n",
    "X = X[['sgot']].values  # Keep only the feature column\n",
    "\n",
    "# Check if lengths match after dropping NaNs\n",
    "assert len(X) == len(y), \"Length mismatch after dropping NaNs\"\n",
    "\n",
    "# Add a constant column for the intercept\n",
    "X_with_intercept = np.vstack([np.ones(len(X)), X[:, 0]]).T\n",
    "\n",
    "# Step a: Calculate coefficients using Pedhazur formula\n",
    "X_mean = np.mean(X_with_intercept, axis=0)\n",
    "y_mean = np.mean(y)\n",
    "XY_mean = np.mean(X_with_intercept[:, 1] * y)\n",
    "X_squared_mean = np.mean(X_with_intercept[:, 1] ** 2)\n",
    "\n",
    "# Compute B1 (slope) and B0 (intercept) using Pedhazur formula\n",
    "B1 = (XY_mean - X_mean[1] * y_mean) / (X_squared_mean - X_mean[1] ** 2)\n",
    "B0 = y_mean - B1 * X_mean[1]\n",
    "\n",
    "# Compute predicted responses\n",
    "y_pred = B0 + B1 * X_with_intercept[:, 1]\n",
    "\n",
    "# Compute RMSE\n",
    "RMSE = np.sqrt(np.mean((y - y_pred) ** 2))\n",
    "\n",
    "# Display coefficients and RMSE\n",
    "print(f\"Pedhazur Method - Intercept (B0): {B0:.2f}\")\n",
    "print(f\"Pedhazur Method - Slope (B1): {B1:.2f}\")\n",
    "print(f\"Pedhazur Method - RMSE: {RMSE:.2f}\")\n",
    "\n",
    "# Step b: Scatter plot and regression line\n",
    "plt.scatter(X[:, 0], y, color='red', label='Data Points')\n",
    "plt.plot(X_with_intercept[:, 1], y_pred, color='blue', label='Regression Line')\n",
    "plt.xlabel('SGOT')\n",
    "plt.ylabel('Age')\n",
    "plt.title('SGOT vs. Age')\n",
    "plt.legend()\n",
    "plt.grid(True)\n",
    "plt.show()\n",
    "\n",
    "# Step c: Calculate coefficients using matrix method (calculus method)\n",
    "# Create matrices for the normal equations\n",
    "mat1 = np.array([[len(X), np.sum(X)], [np.sum(X), np.sum(X ** 2)]])\n",
    "mat2 = np.array([[np.sum(y)], [np.sum(X * y)]])\n",
    "\n",
    "# Compute coefficients using matrix inversion and multiplication\n",
    "coeffs = np.dot(np.linalg.inv(mat1), mat2)\n",
    "b0_mat, b1_mat = coeffs[0, 0], coeffs[1, 0]\n",
    "\n",
    "# Compute predicted responses using matrix method\n",
    "y_mat = b0_mat + b1_mat * X_with_intercept[:, 1]\n",
    "\n",
    "# Compute RMSE for matrix method\n",
    "squared_errors = (y - y_mat) ** 2\n",
    "rmse_mat = np.sqrt(np.mean(squared_errors))\n",
    "\n",
    "# Display coefficients and RMSE for matrix method\n",
    "print(f\"Matrix Method - Intercept (B0): {b0_mat:.2f}\")\n",
    "print(f\"Matrix Method - Slope (B1): {b1_mat:.2f}\")\n",
    "print(f\"Matrix Method - RMSE: {rmse_mat:.2f}\")\n",
    "\n",
    "# Step d: Compare coefficients and predictions\n",
    "print(f\"Coefficients comparison:\")\n",
    "print(f\"Pedhazur Method - Intercept (B0): {B0:.2f}, Slope (B1): {B1:.2f}\")\n",
    "print(f\"Matrix Method - Intercept (B0): {b0_mat:.2f}, Slope (B1): {b1_mat:.2f}\")\n",
    "\n",
    "# Predict y value for a given data point using both methods\n",
    "study_time = 10\n",
    "predicted_y_pedhazur = B0 + B1 * study_time\n",
    "predicted_y_matrix = b0_mat + b1_mat * study_time\n",
    "print(f\"Predicted Age for SGOT = 10 (Pedhazur Method): {predicted_y_pedhazur:.2f}\")\n",
    "print(f\"Predicted Age for SGOT = 10 (Matrix Method): {predicted_y_matrix:.2f}\")\n"
   ]
  },
  {
   "cell_type": "code",
   "execution_count": null,
   "id": "fc21b06c",
   "metadata": {},
   "outputs": [],
   "source": []
  }
 ],
 "metadata": {
  "kernelspec": {
   "display_name": "Python 3 (ipykernel)",
   "language": "python",
   "name": "python3"
  },
  "language_info": {
   "codemirror_mode": {
    "name": "ipython",
    "version": 3
   },
   "file_extension": ".py",
   "mimetype": "text/x-python",
   "name": "python",
   "nbconvert_exporter": "python",
   "pygments_lexer": "ipython3",
   "version": "3.12.3"
  }
 },
 "nbformat": 4,
 "nbformat_minor": 5
}
